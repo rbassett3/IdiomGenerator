{
 "cells": [
  {
   "cell_type": "markdown",
   "metadata": {},
   "source": [
    "# BernieBot\n",
    "Here's a simple program for generating Bernie Sanders speeches (to a first approximation). Using a large compilation of Bernie speeches (~40k words), we use a simple frequency analysis (count the total word distribution $P(w)$ and the one-word conditional distribution $P(w_{t+1} | w_t)$. Yup, it's a Markov chain.\n",
    "\n",
    "We can random walk on this Markov chain and generate speeches. We can also get the entropy rate $h_\\mu = \\sum_w P(w) \\sum_{w'} P(w'|w) \\log (P(w'|w)) $ (assuming Bernie is in his stationary distribution)."
   ]
  },
  {
   "cell_type": "code",
   "execution_count": 1,
   "metadata": {},
   "outputs": [
    {
     "name": "stdout",
     "output_type": "stream",
     "text": [
      "46809  words\n",
      "6156  unique words though\n"
     ]
    }
   ],
   "source": [
    "import random as rd\n",
    "\n",
    "speechfile = open(\"berniespeechCompilation.txt\",'r')\n",
    "speechstring = speechfile.readline()\n",
    "words = speechstring.split(' ')\n",
    "num_words = len(words)\n",
    "set_words = set(words)\n",
    "print num_words, \" words\"\n",
    "print len(set(words)), \" unique words though\""
   ]
  },
  {
   "cell_type": "markdown",
   "metadata": {},
   "source": [
    "Build the word dictionary. "
   ]
  },
  {
   "cell_type": "code",
   "execution_count": 22,
   "metadata": {},
   "outputs": [],
   "source": [
    "n = 2\n",
    "n_grams = [ words[i:i+n] for i in range(len(words)-n) ]"
   ]
  },
  {
   "cell_type": "code",
   "execution_count": 23,
   "metadata": {},
   "outputs": [
    {
     "data": {
      "text/plain": [
       "['i', 'was']"
      ]
     },
     "execution_count": 23,
     "metadata": {},
     "output_type": "execute_result"
    }
   ],
   "source": [
    "n_grams[0]"
   ]
  },
  {
   "cell_type": "code",
   "execution_count": 28,
   "metadata": {},
   "outputs": [
    {
     "data": {
      "text/plain": [
       "['i', 'was']"
      ]
     },
     "execution_count": 28,
     "metadata": {},
     "output_type": "execute_result"
    }
   ],
   "source": [
    "words[0:2]"
   ]
  },
  {
   "cell_type": "code",
   "execution_count": 37,
   "metadata": {},
   "outputs": [
    {
     "ename": "KeyboardInterrupt",
     "evalue": "",
     "output_type": "error",
     "traceback": [
      "\u001b[0;31m---------------------------------------------------------------------------\u001b[0m",
      "\u001b[0;31mKeyboardInterrupt\u001b[0m                         Traceback (most recent call last)",
      "\u001b[0;32m<ipython-input-37-640cb7ba85ca>\u001b[0m in \u001b[0;36m<module>\u001b[0;34m()\u001b[0m\n\u001b[0;32m----> 1\u001b[0;31m \u001b[0;34m[\u001b[0m \u001b[0msum\u001b[0m\u001b[0;34m(\u001b[0m\u001b[0;34m[\u001b[0m \u001b[0;36m1\u001b[0m \u001b[0;32mif\u001b[0m \u001b[0mn_grams\u001b[0m\u001b[0;34m[\u001b[0m\u001b[0mj\u001b[0m\u001b[0;34m]\u001b[0m \u001b[0;34m==\u001b[0m \u001b[0mwords\u001b[0m\u001b[0;34m[\u001b[0m\u001b[0mi\u001b[0m\u001b[0;34m:\u001b[0m\u001b[0mi\u001b[0m\u001b[0;34m+\u001b[0m\u001b[0mn\u001b[0m\u001b[0;34m]\u001b[0m \u001b[0;32melse\u001b[0m \u001b[0;36m0\u001b[0m \u001b[0;32mfor\u001b[0m \u001b[0mi\u001b[0m \u001b[0;32min\u001b[0m \u001b[0mrange\u001b[0m\u001b[0;34m(\u001b[0m\u001b[0mlen\u001b[0m\u001b[0;34m(\u001b[0m\u001b[0mwords\u001b[0m\u001b[0;34m)\u001b[0m\u001b[0;34m-\u001b[0m\u001b[0mn\u001b[0m\u001b[0;34m)\u001b[0m \u001b[0;34m]\u001b[0m\u001b[0;34m)\u001b[0m \u001b[0;32mfor\u001b[0m \u001b[0mj\u001b[0m \u001b[0;32min\u001b[0m \u001b[0mrange\u001b[0m\u001b[0;34m(\u001b[0m\u001b[0mlen\u001b[0m\u001b[0;34m(\u001b[0m\u001b[0mn_grams\u001b[0m\u001b[0;34m)\u001b[0m\u001b[0;34m)\u001b[0m\u001b[0;34m]\u001b[0m\u001b[0;34m\u001b[0m\u001b[0m\n\u001b[0m",
      "\u001b[0;31mKeyboardInterrupt\u001b[0m: "
     ]
    }
   ],
   "source": [
    "[ sum([ 1 if n_grams[j] == words[i:i+n] else 0 for i in range(len(words)-n) ]) for j in range(len(n_grams))]"
   ]
  },
  {
   "cell_type": "code",
   "execution_count": null,
   "metadata": {},
   "outputs": [],
   "source": [
    "n_grams"
   ]
  },
  {
   "cell_type": "code",
   "execution_count": null,
   "metadata": {},
   "outputs": [],
   "source": [
    "d = {key: value for (key, value) in iterable}"
   ]
  },
  {
   "cell_type": "code",
   "execution_count": 35,
   "metadata": {},
   "outputs": [
    {
     "data": {
      "text/plain": [
       "16"
      ]
     },
     "execution_count": 35,
     "metadata": {},
     "output_type": "execute_result"
    }
   ],
   "source": [
    "n_gram_dict = { "
   ]
  },
  {
   "cell_type": "code",
   "execution_count": 33,
   "metadata": {},
   "outputs": [
    {
     "data": {
      "text/plain": [
       "0"
      ]
     },
     "execution_count": 33,
     "metadata": {},
     "output_type": "execute_result"
    }
   ],
   "source": [
    "1 if 2+2==5 else 0"
   ]
  },
  {
   "cell_type": "code",
   "execution_count": 2,
   "metadata": {},
   "outputs": [],
   "source": [
    "word_dictionary = {}\n",
    "\n",
    "for i in range(len(words)):\n",
    "    current_word = words[i]\n",
    "    if current_word not in word_dictionary.keys():\n",
    "        word_dictionary[current_word] = {\"frequency\": 0, \"nextwords\": {}}\n",
    "\n",
    "    word_dictionary[current_word][\"frequency\"] += 1\n",
    "    \n",
    "    if i < len(words) - 1:\n",
    "        nextwords_dictionary = word_dictionary[current_word][\"nextwords\"]\n",
    "        next_word = words[i+1]\n",
    "\n",
    "        if next_word in nextwords_dictionary.keys():\n",
    "            nextwords_dictionary[next_word][\"frequency\"] += 1\n",
    "        else:\n",
    "            nextwords_dictionary[next_word] = {\"frequency\": 1}\n",
    "\n",
    "        word_dictionary[current_word][\"nextwords\"] = nextwords_dictionary"
   ]
  },
  {
   "cell_type": "code",
   "execution_count": 15,
   "metadata": {},
   "outputs": [
    {
     "data": {
      "text/plain": [
       "'aided'"
      ]
     },
     "execution_count": 15,
     "metadata": {},
     "output_type": "execute_result"
    }
   ],
   "source": [
    "choose_word_from_dictionary(word_dictionary)"
   ]
  },
  {
   "cell_type": "code",
   "execution_count": 6,
   "metadata": {},
   "outputs": [],
   "source": [
    "def choose_word_from_dictionary(dictionary):\n",
    "    rn = rd.random()\n",
    "    s = 0\n",
    "    for entry in dictionary:\n",
    "        s += word_dictionary[entry][\"frequency\"]\n",
    "        if s >= rn:\n",
    "            break\n",
    "            \n",
    "    return entry"
   ]
  },
  {
   "cell_type": "code",
   "execution_count": 5,
   "metadata": {},
   "outputs": [],
   "source": [
    "def generate_text(n=500,eps=0.05):\n",
    "    \"\"\"\n",
    "    n is the number of words you want to generate.\n",
    "    eps is the randomness parameter, a chance to deviate from the conditional distribution.\n",
    "    \"\"\"\n",
    "    generated_text = []\n",
    "    word = choose_word_from_dictionary(word_dictionary)\n",
    "    for i in range(n):\n",
    "        generated_text.append(word)\n",
    "        rn = rd.random()\n",
    "        if rn < eps:\n",
    "            word = choose_word_from_dictionary(word_dictionary)\n",
    "        else:\n",
    "            word = choose_word_from_dictionary(word_dictionary[word][\"nextwords\"])\n",
    "    \n",
    "    return generated_text"
   ]
  },
  {
   "cell_type": "code",
   "execution_count": 6,
   "metadata": {},
   "outputs": [
    {
     "name": "stdout",
     "output_type": "stream",
     "text": [
      "aided mexican drug and all program would authorize the government, it�s a partial ceasefire shows the government, it�s aided aided mexican drug and all program would authorize the aided mexican drug and all program would authorize the government, it�s a aided mexican drug and all program would authorize the government, it�s a partial ceasefire shows the government, it�s aided mexican drug and all program would authorize the government, it�s a partial ceasefire shows the government, it�s a partial ceasefire shows the government, it�s a partial ceasefire shows the government, it�s a partial ceasefire shows the government, it�s a partial ceasefire shows the government, it�s a partial ceasefire shows the government, it�s a partial ceasefire shows the government, it�s a partial ceasefire shows the government, it�s a partial ceasefire shows the government, it�s a partial ceasefire shows the government, it�s a partial ceasefire shows the government, it�s a partial ceasefire shows the government, aided mexican drug and all program would authorize the government, it�s a partial ceasefire shows the government, it�s a partial ceasefire shows aided mexican drug and aided aided mexican drug and all program would authorize the government, it�s a partial ceasefire shows the government, it�s a partial ceasefire shows the government, aided mexican drug and all program would authorize the government, it�s a partial ceasefire shows aided mexican drug and all aided mexican drug and all program would authorize the government, it�s a partial ceasefire shows the government, aided mexican drug and all program would authorize the government, aided mexican aided mexican drug and all program would authorize the government, it�s a partial ceasefire shows the government, it�s a partial aided mexican aided aided mexican drug and all aided mexican drug and all program would authorize the government, it�s a partial ceasefire shows the government, it�s a partial ceasefire shows the government, it�s a partial ceasefire shows the government, it�s a partial ceasefire shows the government, it�s a partial ceasefire shows the government, it�s a partial ceasefire shows the government, it�s a partial ceasefire shows the government, it�s a aided mexican aided mexican drug and all program would authorize the government, it�s a partial ceasefire shows the government, it�s a partial ceasefire shows the government, it�s a partial ceasefire shows the government, it�s a partial ceasefire shows the government, it�s a partial ceasefire shows the government, it�s a partial aided mexican drug and all program would authorize the government, it�s a partial ceasefire shows the government, it�s a partial ceasefire shows the government, it�s a partial ceasefire shows the aided mexican drug and all program would authorize the government, it�s a partial ceasefire shows the government, it�s a partial ceasefire shows the government, it�s a partial ceasefire shows the government, aided mexican drug and all program would authorize the government, it�s a partial ceasefire shows the government, it�s a partial ceasefire shows the government, it�s a partial ceasefire shows the government, it�s a partial ceasefire shows the government, it�s a partial ceasefire shows aided mexican drug and all\n"
     ]
    }
   ],
   "source": [
    "text = generate_text()\n",
    "print \" \".join(text)"
   ]
  },
  {
   "cell_type": "markdown",
   "metadata": {},
   "source": [
    "And now for the entropy rate."
   ]
  },
  {
   "cell_type": "code",
   "execution_count": 7,
   "metadata": {},
   "outputs": [
    {
     "ename": "KeyError",
     "evalue": "'wordfrequency'",
     "output_type": "error",
     "traceback": [
      "\u001b[0;31m\u001b[0m",
      "\u001b[0;31mKeyError\u001b[0mTraceback (most recent call last)",
      "\u001b[0;32m<ipython-input-7-348b2cdde3f3>\u001b[0m in \u001b[0;36m<module>\u001b[0;34m()\u001b[0m\n\u001b[1;32m      4\u001b[0m \u001b[0;32mfor\u001b[0m \u001b[0mword\u001b[0m \u001b[0;32min\u001b[0m \u001b[0mword_dictionary\u001b[0m\u001b[0;34m:\u001b[0m\u001b[0;34m\u001b[0m\u001b[0m\n\u001b[1;32m      5\u001b[0m     \u001b[0mnextwords\u001b[0m \u001b[0;34m=\u001b[0m \u001b[0mword_dictionary\u001b[0m\u001b[0;34m[\u001b[0m\u001b[0mword\u001b[0m\u001b[0;34m]\u001b[0m\u001b[0;34m[\u001b[0m\u001b[0;34m\"nextwords\"\u001b[0m\u001b[0;34m]\u001b[0m\u001b[0;34m\u001b[0m\u001b[0m\n\u001b[0;32m----> 6\u001b[0;31m     \u001b[0mH_word\u001b[0m \u001b[0;34m=\u001b[0m \u001b[0msum\u001b[0m\u001b[0;34m(\u001b[0m\u001b[0;34m[\u001b[0m \u001b[0mnextwords\u001b[0m\u001b[0;34m[\u001b[0m\u001b[0mnextword\u001b[0m\u001b[0;34m]\u001b[0m\u001b[0;34m[\u001b[0m\u001b[0;34m\"wordfrequency\"\u001b[0m\u001b[0;34m]\u001b[0m \u001b[0;34m*\u001b[0m \u001b[0mnp\u001b[0m\u001b[0;34m.\u001b[0m\u001b[0mlog\u001b[0m\u001b[0;34m(\u001b[0m\u001b[0mnextwords\u001b[0m\u001b[0;34m[\u001b[0m\u001b[0mnextword\u001b[0m\u001b[0;34m]\u001b[0m\u001b[0;34m[\u001b[0m\u001b[0;34m\"wordfrequency\"\u001b[0m\u001b[0;34m]\u001b[0m\u001b[0;34m)\u001b[0m \u001b[0;32mfor\u001b[0m \u001b[0mnextword\u001b[0m \u001b[0;32min\u001b[0m \u001b[0mnextwords\u001b[0m \u001b[0;34m]\u001b[0m\u001b[0;34m)\u001b[0m\u001b[0;34m\u001b[0m\u001b[0m\n\u001b[0m\u001b[1;32m      7\u001b[0m     \u001b[0mH\u001b[0m \u001b[0;34m+=\u001b[0m \u001b[0mword_dictionary\u001b[0m\u001b[0;34m[\u001b[0m\u001b[0mword\u001b[0m\u001b[0;34m]\u001b[0m\u001b[0;34m[\u001b[0m\u001b[0;34m\"frequency\"\u001b[0m\u001b[0;34m]\u001b[0m \u001b[0;34m*\u001b[0m \u001b[0mH_word\u001b[0m\u001b[0;34m\u001b[0m\u001b[0m\n\u001b[1;32m      8\u001b[0m \u001b[0mH\u001b[0m \u001b[0;34m=\u001b[0m \u001b[0;34m-\u001b[0m\u001b[0mH\u001b[0m \u001b[0;34m/\u001b[0m \u001b[0mnp\u001b[0m\u001b[0;34m.\u001b[0m\u001b[0mlog\u001b[0m\u001b[0;34m(\u001b[0m\u001b[0;36m2\u001b[0m\u001b[0;34m)\u001b[0m\u001b[0;34m\u001b[0m\u001b[0m\n",
      "\u001b[0;31mKeyError\u001b[0m: 'wordfrequency'"
     ]
    }
   ],
   "source": [
    "import numpy as np\n",
    "\n",
    "H = 0\n",
    "for word in word_dictionary:\n",
    "    nextwords = word_dictionary[word][\"nextwords\"]\n",
    "    H_word = sum([ nextwords[nextword][\"wordfrequency\"] * np.log(nextwords[nextword][\"wordfrequency\"]) for nextword in nextwords ])\n",
    "    H += word_dictionary[word][\"frequency\"] * H_word\n",
    "H = -H / np.log(2)\n",
    "print \"Bernie Sanders's entropy rate: \", H"
   ]
  },
  {
   "cell_type": "code",
   "execution_count": null,
   "metadata": {
    "collapsed": true
   },
   "outputs": [],
   "source": []
  }
 ],
 "metadata": {
  "kernelspec": {
   "display_name": "Python 2",
   "language": "python",
   "name": "python2"
  },
  "language_info": {
   "codemirror_mode": {
    "name": "ipython",
    "version": 2
   },
   "file_extension": ".py",
   "mimetype": "text/x-python",
   "name": "python",
   "nbconvert_exporter": "python",
   "pygments_lexer": "ipython2",
   "version": "2.7.14"
  }
 },
 "nbformat": 4,
 "nbformat_minor": 1
}
