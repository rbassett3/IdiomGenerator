{
 "cells": [
  {
   "cell_type": "markdown",
   "metadata": {},
   "source": [
    "# BernieBot\n",
    "Here's a simple program for generating Bernie Sanders speeches (to a first approximation). Using a large compilation of Bernie speeches (~40k words), we use a simple frequency analysis (count the total word distribution $P(w)$ and the one-word conditional distribution $P(w_{t+1} | w_t)$. Yup, it's a Markov chain.\n",
    "\n",
    "We can random walk on this Markov chain and generate speeches. We can also get the entropy rate $h_\\mu = \\sum_w P(w) \\sum_{w'} P(w'|w) \\log (P(w'|w)) $ (assuming Bernie is in his stationary distribution)."
   ]
  },
  {
   "cell_type": "code",
   "execution_count": 339,
   "metadata": {},
   "outputs": [],
   "source": [
    "import random as rd\n",
    "import numpy as np\n",
    "import matplotlib.pyplot as plt\n",
    "import seaborn\n",
    "%matplotlib inline\n",
    "\n",
    "speechfile = open(\"IdiomList.txt\",'r')\n",
    "a = speechfile.read().lower()\n",
    "words = a.replace(\"\\n\\n\",\" \").split(' ')"
   ]
  },
  {
   "cell_type": "code",
   "execution_count": 340,
   "metadata": {},
   "outputs": [],
   "source": [
    "gatsby = open(\"gatsby.txt\",'r')\n",
    "a = gatsby.read()\n",
    "#gatsby_words = a.replace(\"\\n\", \" \").replace(\"\\\"\",\"\").replace(\".\",\"\").replace(\",\",\"\").replace('--',\" \").replace(\"\\r\", \" \").replace(\"  \", \" \").replace(\"  \", \" \")\n",
    "gatsby_words = a.lower().replace(\"\\n\", \" \").replace(\"\\\"\",\"\").replace(\".\",\"\").replace(\",\",\"\").replace('--',\" \").replace(\"\\r\", \" \").replace(\"  \", \" \").replace(\"  \", \" \").split(' ')\n",
    "gatsby_words = [ word for word in gatsby_words if \"\\'\" not in word ]"
   ]
  },
  {
   "cell_type": "code",
   "execution_count": 341,
   "metadata": {},
   "outputs": [],
   "source": [
    "words += words + gatsby_words[:1000]"
   ]
  },
  {
   "cell_type": "code",
   "execution_count": 342,
   "metadata": {},
   "outputs": [
    {
     "name": "stdout",
     "output_type": "stream",
     "text": [
      "8836  words\n",
      "1574  unique words though\n"
     ]
    }
   ],
   "source": [
    "print len(words), \" words\"\n",
    "print len(set(words)), \" unique words though\""
   ]
  },
  {
   "cell_type": "markdown",
   "metadata": {},
   "source": [
    "Build the word dictionary. "
   ]
  },
  {
   "cell_type": "code",
   "execution_count": 175,
   "metadata": {},
   "outputs": [],
   "source": [
    "n = 2\n",
    "n_grams = list(set([ tuple(words[i:i+n]) for i in range(len(words)-n) ]))\n",
    "\n",
    "loc = [ [ i for i in range(len(words)-n) if n_grams[j] == words[i:i+n] ] for j in range(len(n_grams)) ]\n",
    "\n",
    "markov_chain = { n_grams[j]: ([ words[loc[j][i]+n] for i in range(len(loc[j])) ]) for j in range(len(n_grams)) }\n",
    "n_gram_freq = [ len(loc[i]) for i in range(len(n_grams)) ]\n",
    "n_gram_dist = np.array(n_gram_freq) / float(sum(n_gram_freq))"
   ]
  },
  {
   "cell_type": "code",
   "execution_count": null,
   "metadata": {},
   "outputs": [],
   "source": [
    "plt.hist(n_gram_freq,bins=20)"
   ]
  },
  {
   "cell_type": "code",
   "execution_count": null,
   "metadata": {},
   "outputs": [],
   "source": [
    "x = np.random.choice(range(len(n_grams)),p=n_gram_dist)\n",
    "idiom = [] + n_grams[x]\n",
    "idiom + [np.random.choice(markov_chain[tuple(n_grams[x])])]\n",
    "\n",
    "for i in range(20):\n",
    "    idiom += [np.random.choice(markov_chain[tuple(idiom[-2:])])]\n",
    "idiom"
   ]
  },
  {
   "cell_type": "code",
   "execution_count": null,
   "metadata": {},
   "outputs": [],
   "source": []
  },
  {
   "cell_type": "code",
   "execution_count": 343,
   "metadata": {},
   "outputs": [],
   "source": [
    "n = 3\n",
    "n_grams = list(set([ tuple(words[i:i+n]) for i in range(len(words)-n) ]))\n",
    "\n",
    "markov_dict = {}\n",
    "for i in range(len(n_grams)):\n",
    "    if n_grams[i][0:n-1] in markov_dict:\n",
    "        markov_dict[n_grams[i][0:n-1]] += [n_grams[i][-1]]\n",
    "    else:\n",
    "        markov_dict[n_grams[i][0:n-1]] = [n_grams[i][-1]]\n",
    "\n",
    "n_gram_freq = [ len(markov_dict[key]) for key in markov_dict.keys() ]"
   ]
  },
  {
   "cell_type": "code",
   "execution_count": 344,
   "metadata": {
    "scrolled": true
   },
   "outputs": [
    {
     "data": {
      "text/plain": [
       "(array([  3.70000000e+03,   0.00000000e+00,   0.00000000e+00,\n",
       "          0.00000000e+00,   0.00000000e+00,   2.30000000e+02,\n",
       "          0.00000000e+00,   0.00000000e+00,   0.00000000e+00,\n",
       "          0.00000000e+00,   4.80000000e+01,   0.00000000e+00,\n",
       "          0.00000000e+00,   0.00000000e+00,   0.00000000e+00,\n",
       "          2.50000000e+01,   0.00000000e+00,   0.00000000e+00,\n",
       "          0.00000000e+00,   0.00000000e+00,   0.00000000e+00,\n",
       "          1.00000000e+01,   0.00000000e+00,   0.00000000e+00,\n",
       "          0.00000000e+00,   0.00000000e+00,   1.10000000e+01,\n",
       "          0.00000000e+00,   0.00000000e+00,   0.00000000e+00,\n",
       "          0.00000000e+00,   4.00000000e+00,   0.00000000e+00,\n",
       "          0.00000000e+00,   0.00000000e+00,   0.00000000e+00,\n",
       "          4.00000000e+00,   0.00000000e+00,   0.00000000e+00,\n",
       "          0.00000000e+00,   0.00000000e+00,   0.00000000e+00,\n",
       "          1.00000000e+00,   0.00000000e+00,   0.00000000e+00,\n",
       "          0.00000000e+00,   0.00000000e+00,   2.00000000e+00,\n",
       "          0.00000000e+00,   0.00000000e+00,   0.00000000e+00,\n",
       "          0.00000000e+00,   1.00000000e+00,   0.00000000e+00,\n",
       "          0.00000000e+00,   0.00000000e+00,   0.00000000e+00,\n",
       "          1.00000000e+00,   0.00000000e+00,   0.00000000e+00,\n",
       "          0.00000000e+00,   0.00000000e+00,   0.00000000e+00,\n",
       "          1.00000000e+00,   0.00000000e+00,   0.00000000e+00,\n",
       "          0.00000000e+00,   0.00000000e+00,   1.00000000e+00,\n",
       "          0.00000000e+00,   0.00000000e+00,   0.00000000e+00,\n",
       "          0.00000000e+00,   0.00000000e+00,   0.00000000e+00,\n",
       "          0.00000000e+00,   0.00000000e+00,   0.00000000e+00,\n",
       "          1.00000000e+00,   0.00000000e+00,   0.00000000e+00,\n",
       "          0.00000000e+00,   0.00000000e+00,   0.00000000e+00,\n",
       "          0.00000000e+00,   0.00000000e+00,   0.00000000e+00,\n",
       "          0.00000000e+00,   0.00000000e+00,   1.00000000e+00,\n",
       "          0.00000000e+00,   0.00000000e+00,   0.00000000e+00,\n",
       "          0.00000000e+00,   0.00000000e+00,   0.00000000e+00,\n",
       "          0.00000000e+00,   0.00000000e+00,   0.00000000e+00,\n",
       "          1.00000000e+00]),\n",
       " array([  1.  ,   1.19,   1.38,   1.57,   1.76,   1.95,   2.14,   2.33,\n",
       "          2.52,   2.71,   2.9 ,   3.09,   3.28,   3.47,   3.66,   3.85,\n",
       "          4.04,   4.23,   4.42,   4.61,   4.8 ,   4.99,   5.18,   5.37,\n",
       "          5.56,   5.75,   5.94,   6.13,   6.32,   6.51,   6.7 ,   6.89,\n",
       "          7.08,   7.27,   7.46,   7.65,   7.84,   8.03,   8.22,   8.41,\n",
       "          8.6 ,   8.79,   8.98,   9.17,   9.36,   9.55,   9.74,   9.93,\n",
       "         10.12,  10.31,  10.5 ,  10.69,  10.88,  11.07,  11.26,  11.45,\n",
       "         11.64,  11.83,  12.02,  12.21,  12.4 ,  12.59,  12.78,  12.97,\n",
       "         13.16,  13.35,  13.54,  13.73,  13.92,  14.11,  14.3 ,  14.49,\n",
       "         14.68,  14.87,  15.06,  15.25,  15.44,  15.63,  15.82,  16.01,\n",
       "         16.2 ,  16.39,  16.58,  16.77,  16.96,  17.15,  17.34,  17.53,\n",
       "         17.72,  17.91,  18.1 ,  18.29,  18.48,  18.67,  18.86,  19.05,\n",
       "         19.24,  19.43,  19.62,  19.81,  20.  ]),\n",
       " <a list of 100 Patch objects>)"
      ]
     },
     "execution_count": 344,
     "metadata": {},
     "output_type": "execute_result"
    },
    {
     "data": {
      "image/png": "[encoded data removed]",
      "text/plain": [
       "<matplotlib.figure.Figure at 0x10ec6eb10>"
      ]
     },
     "metadata": {},
     "output_type": "display_data"
    }
   ],
   "source": [
    "plt.hist(n_gram_freq,bins=100)"
   ]
  },
  {
   "cell_type": "code",
   "execution_count": 349,
   "metadata": {},
   "outputs": [
    {
     "data": {
      "text/plain": [
       "\"in the spring of twenty-two the practical thing was to find a way where there's muck there's brass while there's life there's hope whom the gods love die\""
      ]
     },
     "execution_count": 349,
     "metadata": {},
     "output_type": "execute_result"
    }
   ],
   "source": [
    "x = np.random.choice(range(len(n_grams)))\n",
    "idiom = [] + list(n_grams[x])\n",
    "idiom + [np.random.choice(list(markov_dict[n_grams[x][0:n-1]]))]\n",
    "\n",
    "for i in range(25):\n",
    "    idiom += [np.random.choice(markov_dict[tuple(idiom[-(n-1):])])]\n",
    "' '.join(idiom)"
   ]
  },
  {
   "cell_type": "code",
   "execution_count": null,
   "metadata": {
    "collapsed": true
   },
   "outputs": [],
   "source": []
  }
 ],
 "metadata": {
  "kernelspec": {
   "display_name": "Python 2",
   "language": "python",
   "name": "python2"
  },
  "language_info": {
   "codemirror_mode": {
    "name": "ipython",
    "version": 2
   },
   "file_extension": ".py",
   "mimetype": "text/x-python",
   "name": "python",
   "nbconvert_exporter": "python",
   "pygments_lexer": "ipython2",
   "version": "2.7.14"
  }
 },
 "nbformat": 4,
 "nbformat_minor": 1
}
