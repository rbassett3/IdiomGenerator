{
 "cells": [
  {
   "cell_type": "markdown",
   "metadata": {},
   "source": [
    "# Generating idioms using a basic Markov chain approach"
   ]
  },
  {
   "cell_type": "code",
   "execution_count": 10,
   "metadata": {},
   "outputs": [
    {
     "name": "stdout",
     "output_type": "stream",
     "text": [
      "56583  words\n",
      "6956  unique words\n"
     ]
    }
   ],
   "source": [
    "import random as rd\n",
    "import numpy as np\n",
    "import matplotlib.pyplot as plt\n",
    "import seaborn\n",
    "%matplotlib inline\n",
    "\n",
    "speechfile = open(\"ProverbList.txt\",'r')\n",
    "a = speechfile.read().lower()\n",
    "words = a.replace(\"\\n\\n\",\" \").split(' ')\n",
    "\n",
    "gatsby = open(\"gatsby.txt\",'r')\n",
    "a = gatsby.read()\n",
    "gatsby_words = a.lower().replace(\"\\n\", \" \").replace(\"\\\"\",\"\").replace(\".\",\"\").replace(\",\",\"\").replace('--',\" \").replace(\"\\r\", \" \").replace(\"  \", \" \").replace(\"  \", \" \").split(' ')\n",
    "#gatsby_words = [ word for word in gatsby_words if \"\\'\" not in word ]\n",
    "\n",
    "words += words + gatsby_words\n",
    "\n",
    "print len(words), \" words\"\n",
    "print len(set(words)), \" unique words\""
   ]
  },
  {
   "cell_type": "code",
   "execution_count": 4,
   "metadata": {},
   "outputs": [],
   "source": [
    "n = 2+1\n",
    "n_grams = list(set([ tuple(words[i:i+n]) for i in range(len(words)-n) ]))\n",
    "\n",
    "markov_dict = {}\n",
    "for i in range(len(n_grams)):\n",
    "    if n_grams[i][0:n-1] in markov_dict:\n",
    "        markov_dict[n_grams[i][0:n-1]] += [n_grams[i][-1]]\n",
    "    else:\n",
    "        markov_dict[n_grams[i][0:n-1]] = [n_grams[i][-1]]\n",
    "\n",
    "n_gram_freq = [ len(markov_dict[key]) for key in markov_dict.keys() ]"
   ]
  },
  {
   "cell_type": "code",
   "execution_count": 5,
   "metadata": {
    "scrolled": true
   },
   "outputs": [
    {
     "data": {
      "image/png": "[encoded data removed]",
      "text/plain": [
       "<matplotlib.figure.Figure at 0x1094c9990>"
      ]
     },
     "metadata": {},
     "output_type": "display_data"
    }
   ],
   "source": [
    "plt.hist(n_gram_freq,bins=100);"
   ]
  },
  {
   "cell_type": "code",
   "execution_count": 349,
   "metadata": {},
   "outputs": [
    {
     "data": {
      "text/plain": [
       "\"in the spring of twenty-two the practical thing was to find a way where there's muck there's brass while there's life there's hope whom the gods love die\""
      ]
     },
     "execution_count": 349,
     "metadata": {},
     "output_type": "execute_result"
    }
   ],
   "source": [
    "x = np.random.choice(range(len(n_grams)))\n",
    "idiom = [] + list(n_grams[x])\n",
    "idiom + [np.random.choice(list(markov_dict[n_grams[x][0:n-1]]))]\n",
    "\n",
    "for i in range(25):\n",
    "    idiom += [np.random.choice(markov_dict[tuple(idiom[-(n-1):])])]\n",
    "' '.join(idiom)"
   ]
  },
  {
   "cell_type": "code",
   "execution_count": null,
   "metadata": {
    "collapsed": true
   },
   "outputs": [],
   "source": []
  }
 ],
 "metadata": {
  "kernelspec": {
   "display_name": "Python 2",
   "language": "python",
   "name": "python2"
  },
  "language_info": {
   "codemirror_mode": {
    "name": "ipython",
    "version": 2
   },
   "file_extension": ".py",
   "mimetype": "text/x-python",
   "name": "python",
   "nbconvert_exporter": "python",
   "pygments_lexer": "ipython2",
   "version": "2.7.14"
  }
 },
 "nbformat": 4,
 "nbformat_minor": 1
}
